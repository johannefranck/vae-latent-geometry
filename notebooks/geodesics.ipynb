{
 "cells": [
  {
   "cell_type": "markdown",
   "id": "7e73aed6",
   "metadata": {},
   "source": [
    "## Explainer notebook\n",
    "\n",
    "Wall through of the computations, algorithms and results."
   ]
  },
  {
   "cell_type": "markdown",
   "id": "6b5c5413",
   "metadata": {},
   "source": []
  }
 ],
 "metadata": {
  "language_info": {
   "name": "python"
  }
 },
 "nbformat": 4,
 "nbformat_minor": 5
}
