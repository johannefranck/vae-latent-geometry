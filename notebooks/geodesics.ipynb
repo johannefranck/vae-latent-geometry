{
 "cells": [
  {
   "cell_type": "markdown",
   "id": "7e73aed6",
   "metadata": {},
   "source": [
    "## Explainer notebook\n",
    "\n",
    "Walk through of the computations, algorithms and results for this project."
   ]
  },
  {
   "cell_type": "markdown",
   "id": "e41916fb",
   "metadata": {},
   "source": [
    "#### Data\n",
    "\n",
    "The Tasic et al. (Nature 2018) single-cell RNA-seq dataset is used, containing gene expression profiles from 23,822 cells isolated from the adult mouse visual cortex Kobak and Berens (2019). The dataset is used in preprocessed form; PCA reduced dimensionality of 50 components. The PCA-reduced data is available via the accompanying GitHub repository Berens and Kobak (2019). \n",
    "\n",
    "There are 133 unique classes in the data."
   ]
  },
  {
   "cell_type": "markdown",
   "id": "346a9252",
   "metadata": {},
   "source": [
    "#### Motivation\n",
    "\n",
    "Deep latent variable models (DLVMs) are powerful tools for uncovering low-dimensional structure in high-dimensional data. The goal is not merely to compress data, but to learn representations that reflect the underlying mechanisms of the observed phenomena.\n",
    "\n",
    "However, in VAEs and similar deep generative models, the latent variables themselves are not identifiable. Multiple different latent representations can yield the same observed data distribution. As a result, the learned latent variables are not unique and can vary significantly across training runs, making interpretation difficult Hauberg (2025).\n",
    "\n",
    "Recent work has shown that while the latent variables themselves are not identifiable, certain geometric relationships between them — such as distances, angles, and volumes, when defined using the pullback metric via the decoder — can be statistically identifiable under mild assumptions Syrota et al. (2025)."
   ]
  },
  {
   "cell_type": "markdown",
   "id": "846941b4",
   "metadata": {},
   "source": [
    "#### Objective and Aim\n",
    "\n",
    "Under the manifold hypothesis, it is assumed that the data lie near a lower-dimensional manifold embedded in a highdimensional space. A variational autoencoder (VAE) or an ensemble VAE is used to learn this manifold.\n",
    "\n",
    "The objective is to produce distance matrices and design methods to compute geodesic distances.\n",
    "\n",
    "* The first experiment is set up with a single VAEs. One encoder, one decoder.\n",
    "* The second experiment is set up using ensemble VAEs using 10 decoders."
   ]
  },
  {
   "cell_type": "markdown",
   "id": "7f6e870e",
   "metadata": {},
   "source": [
    "#### Single VAE"
   ]
  },
  {
   "cell_type": "markdown",
   "id": "6b5c5413",
   "metadata": {},
   "source": [
    "Two variational autoencoders are trained independently with different random seeds using the code in `src/single_decoder/vae_train.py`. Each model maps the 50-dimensional PCA-reduced RNA-seq data to a 2-dimensional latent space. The models are each trained for 100 epochs using Adam optimizer with a learning rate of 0.001 and a batch size of 64.\n",
    "\n",
    "The goal is to study the geometry learned by each VAE by comparing geodesic curves between fixed point pairs in latent space. From one of the models latent spaces one point is chosen by using center of clusters to represent the cluster. 133 points from all unique classes gives 8778 geodesic distances to approximate (`src/select_representative_pairs.py`).\n",
    "\n",
    "**Spline Initialization**\n",
    "\n",
    "Inspired by the paper Detlefsen et al (2022) for a single decoder vae the splines are initialized using the parameterization as in Syrota et all (2025). This formulation is embedded in the `GeodesicSpline` class. A shortest path algorithm initialized in latent space of the model is used for initializing the splines. The shortest paths between point pairs are found using Dijkstras algorithm one a grid with 200x200 over latent space with k=8 -nearest neighbor, from SciPy, and the splines are initialized using 4 segments per spline each optimized to follow the Dijkstra path using LBFGS algorithm. Visualized below with some example splines.\n"
   ]
  },
  {
   "cell_type": "markdown",
   "id": "63c05e2d",
   "metadata": {},
   "source": [
    "<div style=\"display: flex; justify-content: space-around; align-items: center;\">\n",
    "  <div style=\"text-align: center;\">\n",
    "    <img src=\"../src/plots/splines_init_dijkstra_seed12.png\" alt=\"Splines Init Dijkstra Seed 12\" style=\"max-width: 45%; height: auto;\">\n",
    "    <p><em>Seed 12: Initial spline paths differ slightly from the Dijkstra paths. </em></p>\n",
    "  </div>\n",
    "  <!-- <div style=\"text-align: center;\">\n",
    "    <img src=\"../src/plots/splines_init_dijkstra_seed123.png\" alt=\"Splines Init Dijkstra Seed 123\" style=\"max-width: 45%; height: auto;\">\n",
    "    <p><em>Seed 123</em></p>\n",
    "  </div> -->\n",
    "</div>"
   ]
  },
  {
   "cell_type": "markdown",
   "id": "81f6a11e",
   "metadata": {},
   "source": [
    "**Energy Optimization**\n",
    "\n",
    "The splines are expressed using the parameterization as in Syrota et al. (2025). This means the optimization step `src/single_decoder/optimize_energy_batched.py` will optimize the omega parameters. The optimization is run in batches of splines.\n",
    "\n",
    "The optimization of energy is using an Adam optimizer with 500 steps and a learning rate of 0.001. The initialized splines are optimized using the same number of segments as they are initialized with pr spline (same for all splines) and the splines are optimized using a discretization of t_vals = 2000. The energy is computed using the decoder of the model and utilizing the mean for each discretization step. \n",
    "\n",
    "The optimized splines are saved as well as the (approximation) of the geodesics' lengths. Below some examples of the visualized optimized (full) and initial splines (dashed) on density based respective backgrounds."
   ]
  },
  {
   "cell_type": "markdown",
   "id": "eb8fed0f",
   "metadata": {},
   "source": [
    "<div style=\"display: flex; justify-content: space-around; align-items: center;\">\n",
    "  <div style=\"text-align: center;\">\n",
    "    <img src=\"../src/plots/density_illustration_examples12.png\" alt=\"Initial and optimized splines seed 12\" style=\"max-width: 80%; height: auto;\">\n",
    "    <p><em>Seed 12</em></p>\n",
    "  </div>\n",
    "  <div style=\"text-align: center;\">\n",
    "    <img src=\"../src/plots/density_illustration_examples123.png\" alt=\"Initial and optimized splines seed 123\" style=\"max-width: 80%; height: auto;\">\n",
    "    <p><em>Seed 123</em></p>\n",
    "  </div>\n",
    "</div>\n",
    "<p style=\"text-align: center; margin-top: 1em;\"><em>The initial paths are optimized and seems to be pushed towards more density rich areas in the latent space</em><p>\n",
    "\n"
   ]
  },
  {
   "cell_type": "markdown",
   "id": "4f96256c",
   "metadata": {},
   "source": [
    "**Distance Matrices Geodesics**\n",
    "\n",
    "The approximated geodesic lengths are visualized for comparison below. "
   ]
  },
  {
   "cell_type": "markdown",
   "id": "03d6eadc",
   "metadata": {},
   "source": [
    "<div style=\"display: flex; justify-content: space-between;\">\n",
    "  <div style=\"flex: 0 0 49%; text-align: center;\">\n",
    "    <img src=\"../src/plots/geodesic_distance_seed12_p133.png\" alt=\"Seed 12\" style=\"width: 80%; height: auto;\">\n",
    "    <p><em>Seed 12</em></p>\n",
    "  </div>\n",
    "  <div style=\"flex: 0 0 49%; text-align: center;\">\n",
    "    <img src=\"../src/plots/geodesic_distance_seed123_p133.png\" alt=\"Seed 123\" style=\"width: 80%; height: auto;\">\n",
    "    <p><em>Seed 123</em></p>\n",
    "  </div>\n",
    "</div>\n",
    "<p style=\"text-align: center; margin-top: 1em;\"><em>Although the matrices look to have similar structure, the geodesic distances for the comparable points differ numerically.</em></p>\n"
   ]
  },
  {
   "cell_type": "markdown",
   "id": "fad29930",
   "metadata": {},
   "source": [
    "To explore further the geodesic distances in this dataset further, the next step is to explore geodesic distances computed via ensemble VAEs."
   ]
  },
  {
   "cell_type": "markdown",
   "id": "20283297",
   "metadata": {},
   "source": [
    "#### Ensemble VAE"
   ]
  },
  {
   "cell_type": "markdown",
   "id": "17fca692",
   "metadata": {},
   "source": [
    "While the latent codes themselves are non-identifiable, the geometry defined via the decoder could be stabilized through ensembling. This approach reduces the variance of the learned Riemannian metric, leading to (hopefully) more consistently approximated geodesic paths."
   ]
  },
  {
   "cell_type": "markdown",
   "id": "e67925a5",
   "metadata": {},
   "source": [
    "**Latent spaces**\n",
    "\n",
    "\n",
    "<div style=\"display: flex; justify-content: space-between;\">\n",
    "  <div style=\"flex: 0 0 49%; text-align: center;\">\n",
    "    <img src=\"../experiment/plots/latent_plot_seed12.png\" alt=\"Seed 12\" style=\"width: 80%; height: auto;\">\n",
    "    <p><em>Seed 12 EVAE 10 decoders</em></p>\n",
    "  </div>\n",
    "  <div style=\"flex: 0 0 49%; text-align: center;\">\n",
    "    <img src=\"../experiment/plots/latent_plot_seed123.png\" alt=\"Seed 123\" style=\"width: 80%; height: auto;\">\n",
    "    <p><em>Seed 123 EVAE 10 decoders</em></p>\n",
    "  </div>\n",
    "</div>\n",
    "<p style=\"text-align: center; margin-top: 1em;\"><em>It is noted that the latent spaces look very similar across seeds. This unfortunately hints that the euclidean distances will be much alike, and thereby that the geodesic approximated distances perhaps will not be a big improvement over euclidean for this dataset. The similar latent spaces might most likely be because of the pca reduced data.</em></p>\n",
    "\n"
   ]
  },
  {
   "cell_type": "markdown",
   "id": "fd2fab1b",
   "metadata": {},
   "source": [
    "**Initializing Splines - Two methods**\n",
    "\n",
    "Now there are more decoders. This means that a better initial guess can be placed by utilizing the decoders and where they agree. Opposed to before where only the kNN was initialized in the latent space grid (called euclidean initialization) a new method is proposed based on Detlefsen et al. (2022). The entropy of where the decoders agree is used to construct a weighted graph which is used to construct the initial splines.\n",
    "\n"
   ]
  },
  {
   "cell_type": "markdown",
   "id": "e97701ac",
   "metadata": {},
   "source": [
    "<div style=\"display: flex; justify-content: space-between;\">\n",
    "  <div style=\"flex: 0 0 49%; text-align: center;\">\n",
    "    <img src=\"../experiment/splines_init_model_seed12/spline_plot_init_euclidean_10.png\" alt=\"Seed 12\" style=\"width: 80%; height: auto;\">\n",
    "    <p><em>Initialized using euclidean based graph</em></p>\n",
    "  </div>\n",
    "  <div style=\"flex: 0 0 49%; text-align: center;\">\n",
    "    <img src=\"../experiment/splines_init_model_seed12/spline_plot_init_entropy_10.png\" alt=\"Seed 123\" style=\"width: 80%; height: auto;\">\n",
    "    <p><em>Initialized using entropy weighted graph</em></p>\n",
    "  </div>\n",
    "</div>\n",
    "<p style=\"text-align: center; margin-top: 1em;\"><em>Both are for EVAE model seed 12. The entropy based initialized splines are noted to follow the stucture of the latent data much more closely than the euclidean based initialized splines.</em></p>"
   ]
  },
  {
   "cell_type": "markdown",
   "id": "1475258a",
   "metadata": {},
   "source": [
    "**Geodesic Distances vs Euclidean Distances**\n",
    "\n",
    "Where it is not possible to compare the Geodesic distance matrices to the Euclidean distance matrices certain similarities cannot be unseen as all four plot are very similar."
   ]
  },
  {
   "cell_type": "markdown",
   "id": "161f86fe",
   "metadata": {},
   "source": [
    "**CoV analysis**\n",
    "\n",
    "Very shortly about evaluating the performance using CV analysis. "
   ]
  },
  {
   "cell_type": "markdown",
   "id": "bb2beec0",
   "metadata": {},
   "source": [
    "<div style=\"display: flex; justify-content: space-around; align-items: center;\">\n",
    "  <div style=\"text-align: center;\">\n",
    "    <img src=\"../experiment/plots/cov_plot_15_alldec.png\" alt=\"Splines Init Dijkstra Seed 12\" style=\"max-width: 45%; height: auto;\">\n",
    "    <p><em>CV analysis using 6 models trained with 10 decoders. Evaluating geodesic and euclidean distances with increasing number of decoders. The results are not statistically valid to conclude on.</em></p>\n",
    "</div>"
   ]
  },
  {
   "cell_type": "markdown",
   "id": "76d23959",
   "metadata": {},
   "source": [
    "#### Next work "
   ]
  },
  {
   "cell_type": "markdown",
   "id": "d1719e5c",
   "metadata": {},
   "source": []
  }
 ],
 "metadata": {
  "kernelspec": {
   "display_name": "venv_geometry",
   "language": "python",
   "name": "python3"
  },
  "language_info": {
   "codemirror_mode": {
    "name": "ipython",
    "version": 3
   },
   "file_extension": ".py",
   "mimetype": "text/x-python",
   "name": "python",
   "nbconvert_exporter": "python",
   "pygments_lexer": "ipython3",
   "version": "3.10.16"
  }
 },
 "nbformat": 4,
 "nbformat_minor": 5
}
